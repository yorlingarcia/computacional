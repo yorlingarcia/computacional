{
 "cells": [
  {
   "cell_type": "code",
   "execution_count": 1,
   "metadata": {},
   "outputs": [],
   "source": [
    "from numpy import loadtxt\n",
    "import matplotlib.pyplot as plt\n",
    "from lagrange import Lagrange\n",
    "from scipy import linspace\n",
    "from scipy.interpolate import interp1d"
   ]
  },
  {
   "cell_type": "code",
   "execution_count": 2,
   "metadata": {},
   "outputs": [],
   "source": [
    "a = loadtxt(\"datafile.dat\")\n",
    "\n",
    "xinterp = linspace(min(a[:,0]),max(a[:,0]),500)\n",
    "\n",
    "Lg = Lagrange()\n",
    "punt = Lg.funcion(a[:,0], a[:,1], xinterp)\n",
    "\n",
    "aux = punt[0]\n",
    "cont = 0\n",
    "for i in range(len(punt)):\n",
    "    if aux < punt[i]:\n",
    "        aux = punt[i]\n",
    "        cont = i\n",
    "Er = aux\n",
    "Erx = xinterp[cont]\n",
    "med = Er/2"
   ]
  },
  {
   "cell_type": "code",
   "execution_count": 3,
   "metadata": {},
   "outputs": [
    {
     "name": "stdout",
     "output_type": "stream",
     "text": [
      "Er: 83.51188 ,gamma: 57.31463\n"
     ]
    }
   ],
   "source": [
    "aux1 = 0\n",
    "aux2 = 0\n",
    "gamma = 0\n",
    "for i in range(len(punt)//2):\n",
    "    if punt[cont-i] < med:\n",
    "        aux1 = cont-i\n",
    "        break\n",
    "for i in range(len(punt)//2):\n",
    "    if punt[cont+i] < med:\n",
    "        aux2 = cont+i\n",
    "        break\n",
    "gamma = xinterp[aux2-1]-xinterp[aux1+1]\n",
    "print(\"Er: %0.5f ,gamma: %0.5f\" %(Er,gamma))\n",
    "gamma_x1 = xinterp[aux1]\n",
    "gamma_x2 = xinterp[aux2]\n",
    "gamma_y1 = punt[aux1]\n",
    "gamma_y2 = punt[aux2]"
   ]
  },
  {
   "cell_type": "code",
   "execution_count": 4,
   "metadata": {},
   "outputs": [],
   "source": [
    "y = interp1d(a[:,0],a[:,1],kind=('cubic'))(xinterp)"
   ]
  },
  {
   "cell_type": "code",
   "execution_count": 5,
   "metadata": {},
   "outputs": [
    {
     "name": "stderr",
     "output_type": "stream",
     "text": [
      "C:\\Users\\USUARIO\\Anaconda3\\lib\\site-packages\\matplotlib\\cbook\\__init__.py:424: MatplotlibDeprecationWarning: \n",
      "Passing one of 'on', 'true', 'off', 'false' as a boolean is deprecated; use an actual boolean (True/False) instead.\n",
      "  warn_deprecated(\"2.2\", \"Passing one of 'on', 'true', 'off', 'false' as a \"\n"
     ]
    },
    {
     "data": {
      "text/plain": [
       "[<matplotlib.lines.Line2D at 0x27da66a8710>]"
      ]
     },
     "execution_count": 5,
     "metadata": {},
     "output_type": "execute_result"
    },
    {
     "data": {
      "image/png": "[encoded data removed]",
      "text/plain": [
       "<Figure size 432x288 with 1 Axes>"
      ]
     },
     "metadata": {
      "needs_background": "light"
     },
     "output_type": "display_data"
    }
   ],
   "source": [
    "plt.plot(xinterp,y,'b')\n",
    "plt.grid(\"on\")\n",
    "plt.plot(Erx,med,'ko')\n",
    "plt.plot(gamma_x1,gamma_y1,'ko')\n",
    "plt.plot(gamma_x2,gamma_y2,'ko')\n",
    "plt.plot(Erx,Er,'bo')\n",
    "plt.plot(a[:,0],a[:,1],'ro')\n",
    "plt.plot(xinterp,punt,'r')\n",
    "plt.plot([gamma_x1,gamma_x2],[gamma_y1,gamma_y2],'b--')"
   ]
  }
 ],
 "metadata": {
  "kernelspec": {
   "display_name": "Python 3",
   "language": "python",
   "name": "python3"
  },
  "language_info": {
   "codemirror_mode": {
    "name": "ipython",
    "version": 3
   },
   "file_extension": ".py",
   "mimetype": "text/x-python",
   "name": "python",
   "nbconvert_exporter": "python",
   "pygments_lexer": "ipython3",
   "version": "3.7.3"
  }
 },
 "nbformat": 4,
 "nbformat_minor": 2
}
